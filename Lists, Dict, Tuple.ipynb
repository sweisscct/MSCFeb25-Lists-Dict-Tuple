{
 "cells": [
  {
   "cell_type": "code",
   "execution_count": 2,
   "id": "d5ba4953-46df-4067-958b-fd29692b4ef2",
   "metadata": {},
   "outputs": [],
   "source": [
    "name1 = \"Sam\"\n",
    "name2 = \"Muhammad\"\n",
    "name3 = \"David\""
   ]
  },
  {
   "cell_type": "code",
   "execution_count": 3,
   "id": "2dd8687f-3461-434f-b2c7-b30b2d746328",
   "metadata": {},
   "outputs": [],
   "source": [
    "name_list = [\"Sam\", \"Muhammad\", name3]"
   ]
  },
  {
   "cell_type": "code",
   "execution_count": 4,
   "id": "d366ae6f-4d67-42fa-86bd-621338236c62",
   "metadata": {},
   "outputs": [
    {
     "data": {
      "text/plain": [
       "['Sam', 'Muhammad', 'David']"
      ]
     },
     "execution_count": 4,
     "metadata": {},
     "output_type": "execute_result"
    }
   ],
   "source": [
    "name_list"
   ]
  },
  {
   "cell_type": "code",
   "execution_count": 6,
   "id": "496d98ae-7bc2-42b1-a051-e501a40bb27d",
   "metadata": {},
   "outputs": [
    {
     "data": {
      "text/plain": [
       "'Muhammad'"
      ]
     },
     "execution_count": 6,
     "metadata": {},
     "output_type": "execute_result"
    }
   ],
   "source": [
    "name_list[1] # Computers count from 0"
   ]
  },
  {
   "cell_type": "code",
   "execution_count": 7,
   "id": "de86a9df-b7b9-4abf-8a1c-b778c4198623",
   "metadata": {
    "collapsed": true,
    "jupyter": {
     "outputs_hidden": true
    }
   },
   "outputs": [
    {
     "ename": "IndexError",
     "evalue": "list index out of range",
     "output_type": "error",
     "traceback": [
      "\u001b[1;31m---------------------------------------------------------------------------\u001b[0m",
      "\u001b[1;31mIndexError\u001b[0m                                Traceback (most recent call last)",
      "Cell \u001b[1;32mIn[7], line 1\u001b[0m\n\u001b[1;32m----> 1\u001b[0m name_list[\u001b[38;5;241m3\u001b[39m]\n",
      "\u001b[1;31mIndexError\u001b[0m: list index out of range"
     ]
    }
   ],
   "source": [
    "name_list[3]"
   ]
  },
  {
   "cell_type": "code",
   "execution_count": 8,
   "id": "83cce095-80fa-4c77-a4f0-fb219094facb",
   "metadata": {
    "collapsed": true,
    "jupyter": {
     "outputs_hidden": true
    }
   },
   "outputs": [
    {
     "ename": "TypeError",
     "evalue": "list indices must be integers or slices, not float",
     "output_type": "error",
     "traceback": [
      "\u001b[1;31m---------------------------------------------------------------------------\u001b[0m",
      "\u001b[1;31mTypeError\u001b[0m                                 Traceback (most recent call last)",
      "Cell \u001b[1;32mIn[8], line 1\u001b[0m\n\u001b[1;32m----> 1\u001b[0m name_list[\u001b[38;5;241m2.0\u001b[39m]\n",
      "\u001b[1;31mTypeError\u001b[0m: list indices must be integers or slices, not float"
     ]
    }
   ],
   "source": [
    "name_list[2.0]"
   ]
  },
  {
   "cell_type": "code",
   "execution_count": 9,
   "id": "630bc97d-33b8-4266-84cf-f9a6189e1ddd",
   "metadata": {},
   "outputs": [
    {
     "data": {
      "text/plain": [
       "'David'"
      ]
     },
     "execution_count": 9,
     "metadata": {},
     "output_type": "execute_result"
    }
   ],
   "source": [
    "name_list[-1]"
   ]
  },
  {
   "cell_type": "code",
   "execution_count": 10,
   "id": "730465da-1c48-4578-952e-1234f78fb1fa",
   "metadata": {},
   "outputs": [
    {
     "data": {
      "text/plain": [
       "'Muhammad'"
      ]
     },
     "execution_count": 10,
     "metadata": {},
     "output_type": "execute_result"
    }
   ],
   "source": [
    "name_list[-2]"
   ]
  },
  {
   "cell_type": "code",
   "execution_count": 11,
   "id": "8f4e9ef6-3a5f-4040-9552-908ec9a1c834",
   "metadata": {},
   "outputs": [
    {
     "data": {
      "text/plain": [
       "'Sam'"
      ]
     },
     "execution_count": 11,
     "metadata": {},
     "output_type": "execute_result"
    }
   ],
   "source": [
    "name_list[-3]"
   ]
  },
  {
   "cell_type": "code",
   "execution_count": 12,
   "id": "e54202ce-96a6-4d1e-b84b-540d01775c1b",
   "metadata": {
    "collapsed": true,
    "jupyter": {
     "outputs_hidden": true
    }
   },
   "outputs": [
    {
     "ename": "IndexError",
     "evalue": "list index out of range",
     "output_type": "error",
     "traceback": [
      "\u001b[1;31m---------------------------------------------------------------------------\u001b[0m",
      "\u001b[1;31mIndexError\u001b[0m                                Traceback (most recent call last)",
      "Cell \u001b[1;32mIn[12], line 1\u001b[0m\n\u001b[1;32m----> 1\u001b[0m name_list[\u001b[38;5;241m-\u001b[39m\u001b[38;5;241m4\u001b[39m]\n",
      "\u001b[1;31mIndexError\u001b[0m: list index out of range"
     ]
    }
   ],
   "source": [
    "name_list[-4]"
   ]
  },
  {
   "cell_type": "code",
   "execution_count": 13,
   "id": "a758e335-88d9-4ae3-b8b7-897e50f09934",
   "metadata": {},
   "outputs": [
    {
     "data": {
      "text/plain": [
       "['Sam', 'Muhammad', 'David']"
      ]
     },
     "execution_count": 13,
     "metadata": {},
     "output_type": "execute_result"
    }
   ],
   "source": [
    "name_list"
   ]
  },
  {
   "cell_type": "code",
   "execution_count": 14,
   "id": "6754f039-ae51-4260-86ec-93960a15da0d",
   "metadata": {},
   "outputs": [],
   "source": [
    "name_list.append(5)"
   ]
  },
  {
   "cell_type": "code",
   "execution_count": 15,
   "id": "3d8be6a3-be85-4dbb-b28b-a213f95401f4",
   "metadata": {},
   "outputs": [
    {
     "data": {
      "text/plain": [
       "['Sam', 'Muhammad', 'David', 5]"
      ]
     },
     "execution_count": 15,
     "metadata": {},
     "output_type": "execute_result"
    }
   ],
   "source": [
    "name_list"
   ]
  },
  {
   "cell_type": "code",
   "execution_count": 16,
   "id": "bc7ff813-786d-4da2-a411-7a385d8ece84",
   "metadata": {},
   "outputs": [
    {
     "data": {
      "text/plain": [
       "int"
      ]
     },
     "execution_count": 16,
     "metadata": {},
     "output_type": "execute_result"
    }
   ],
   "source": [
    "type(name_list[-1])"
   ]
  },
  {
   "cell_type": "code",
   "execution_count": 17,
   "id": "e86a29ae-3635-4b56-8b30-c489346235bc",
   "metadata": {},
   "outputs": [
    {
     "data": {
      "text/plain": [
       "['Sam', 'Muhammad', 'David', 5]"
      ]
     },
     "execution_count": 17,
     "metadata": {},
     "output_type": "execute_result"
    }
   ],
   "source": [
    "name_list[:]"
   ]
  },
  {
   "cell_type": "code",
   "execution_count": 18,
   "id": "eba6d208-e341-4ffc-9994-54b90b312efa",
   "metadata": {},
   "outputs": [
    {
     "data": {
      "text/plain": [
       "['Muhammad', 'David']"
      ]
     },
     "execution_count": 18,
     "metadata": {},
     "output_type": "execute_result"
    }
   ],
   "source": [
    "name_list[1:3]"
   ]
  },
  {
   "cell_type": "code",
   "execution_count": 19,
   "id": "a78aefcc-db37-4402-91bc-b59b3d40771c",
   "metadata": {},
   "outputs": [
    {
     "data": {
      "text/plain": [
       "['Sam', 'Muhammad', 'David']"
      ]
     },
     "execution_count": 19,
     "metadata": {},
     "output_type": "execute_result"
    }
   ],
   "source": [
    "name_list[:3]"
   ]
  },
  {
   "cell_type": "code",
   "execution_count": 20,
   "id": "dc1a9ec9-dac9-4b97-bc97-414ce718c5a2",
   "metadata": {},
   "outputs": [
    {
     "data": {
      "text/plain": [
       "['Muhammad', 'David', 5]"
      ]
     },
     "execution_count": 20,
     "metadata": {},
     "output_type": "execute_result"
    }
   ],
   "source": [
    "name_list[1:]"
   ]
  },
  {
   "cell_type": "code",
   "execution_count": 21,
   "id": "9f3d382f-c0a3-4ad0-a453-463f087f6f8c",
   "metadata": {},
   "outputs": [],
   "source": [
    "index = 2\n",
    "first_half = name_list[:index]\n",
    "second_half = name_list[index:]"
   ]
  },
  {
   "cell_type": "code",
   "execution_count": 22,
   "id": "b50f9651-d422-425b-9e21-4fe59934d2c3",
   "metadata": {},
   "outputs": [
    {
     "data": {
      "text/plain": [
       "['Sam', 'Muhammad']"
      ]
     },
     "execution_count": 22,
     "metadata": {},
     "output_type": "execute_result"
    }
   ],
   "source": [
    "first_half"
   ]
  },
  {
   "cell_type": "code",
   "execution_count": 23,
   "id": "0b286b3f-7c23-48e3-a8b7-92f54aef6337",
   "metadata": {},
   "outputs": [
    {
     "data": {
      "text/plain": [
       "['David', 5]"
      ]
     },
     "execution_count": 23,
     "metadata": {},
     "output_type": "execute_result"
    }
   ],
   "source": [
    "second_half"
   ]
  },
  {
   "cell_type": "code",
   "execution_count": 24,
   "id": "1cc3f85c-41d3-465a-9705-562d89572401",
   "metadata": {},
   "outputs": [
    {
     "data": {
      "text/plain": [
       "['Sam', 'Muhammad', 'David', 5]"
      ]
     },
     "execution_count": 24,
     "metadata": {},
     "output_type": "execute_result"
    }
   ],
   "source": [
    "name_list"
   ]
  },
  {
   "cell_type": "code",
   "execution_count": 25,
   "id": "f2a2ed05-e367-410c-9d1b-77d1e2e497cb",
   "metadata": {},
   "outputs": [],
   "source": [
    "name_list.remove(5)"
   ]
  },
  {
   "cell_type": "code",
   "execution_count": 26,
   "id": "d2252cde-e17d-45f7-b473-2e5de927ed4c",
   "metadata": {},
   "outputs": [
    {
     "data": {
      "text/plain": [
       "['Sam', 'Muhammad', 'David']"
      ]
     },
     "execution_count": 26,
     "metadata": {},
     "output_type": "execute_result"
    }
   ],
   "source": [
    "name_list"
   ]
  },
  {
   "cell_type": "code",
   "execution_count": 27,
   "id": "e1f83cf9-635d-478f-8b87-99a56c4852b1",
   "metadata": {},
   "outputs": [],
   "source": [
    "name_list.append(\"Muhammad\")"
   ]
  },
  {
   "cell_type": "code",
   "execution_count": 28,
   "id": "9c35222b-79f0-41e9-8c79-f1ffa36043dc",
   "metadata": {},
   "outputs": [
    {
     "data": {
      "text/plain": [
       "['Sam', 'Muhammad', 'David', 'Muhammad']"
      ]
     },
     "execution_count": 28,
     "metadata": {},
     "output_type": "execute_result"
    }
   ],
   "source": [
    "name_list"
   ]
  },
  {
   "cell_type": "code",
   "execution_count": 29,
   "id": "24f23157-56b0-48d9-ab86-fce3a6ee5fb1",
   "metadata": {},
   "outputs": [],
   "source": [
    "name_list.remove(\"Muhammad\")"
   ]
  },
  {
   "cell_type": "code",
   "execution_count": 30,
   "id": "48901b72-84fb-4548-87f1-9dfcdda8311e",
   "metadata": {},
   "outputs": [
    {
     "data": {
      "text/plain": [
       "['Sam', 'David', 'Muhammad']"
      ]
     },
     "execution_count": 30,
     "metadata": {},
     "output_type": "execute_result"
    }
   ],
   "source": [
    "name_list"
   ]
  },
  {
   "cell_type": "code",
   "execution_count": 31,
   "id": "073302f0-0652-4e07-9656-a90fb371ac37",
   "metadata": {},
   "outputs": [
    {
     "data": {
      "text/plain": [
       "'Muhammad'"
      ]
     },
     "execution_count": 31,
     "metadata": {},
     "output_type": "execute_result"
    }
   ],
   "source": [
    "name_list.pop()"
   ]
  },
  {
   "cell_type": "code",
   "execution_count": 32,
   "id": "40711fe3-459f-4a9b-89c2-a8fed2962114",
   "metadata": {},
   "outputs": [
    {
     "data": {
      "text/plain": [
       "['Sam', 'David']"
      ]
     },
     "execution_count": 32,
     "metadata": {},
     "output_type": "execute_result"
    }
   ],
   "source": [
    "name_list"
   ]
  },
  {
   "cell_type": "code",
   "execution_count": 33,
   "id": "ed630ca4-1f43-4f1a-8540-d09e6bdd225a",
   "metadata": {},
   "outputs": [
    {
     "data": {
      "text/plain": [
       "'Sam'"
      ]
     },
     "execution_count": 33,
     "metadata": {},
     "output_type": "execute_result"
    }
   ],
   "source": [
    "name_list.pop(0)"
   ]
  },
  {
   "cell_type": "code",
   "execution_count": 34,
   "id": "00a7a4d2-f0e6-4d2f-9991-2167100a3963",
   "metadata": {},
   "outputs": [
    {
     "data": {
      "text/plain": [
       "['David']"
      ]
     },
     "execution_count": 34,
     "metadata": {},
     "output_type": "execute_result"
    }
   ],
   "source": [
    "name_list"
   ]
  },
  {
   "cell_type": "code",
   "execution_count": 35,
   "id": "2aa23487-ff4b-48a3-b5e0-553a53527aa5",
   "metadata": {},
   "outputs": [
    {
     "data": {
      "text/plain": [
       "['Sam', 'Muhammad']"
      ]
     },
     "execution_count": 35,
     "metadata": {},
     "output_type": "execute_result"
    }
   ],
   "source": [
    "first_half"
   ]
  },
  {
   "cell_type": "code",
   "execution_count": 36,
   "id": "95eb58c5-428f-424d-b920-9c1e6e3bd6d5",
   "metadata": {},
   "outputs": [
    {
     "data": {
      "text/plain": [
       "['David', 5]"
      ]
     },
     "execution_count": 36,
     "metadata": {},
     "output_type": "execute_result"
    }
   ],
   "source": [
    "second_half"
   ]
  },
  {
   "cell_type": "code",
   "execution_count": 37,
   "id": "05e9cec9-d57d-4816-bd70-1ef7cdd7f903",
   "metadata": {},
   "outputs": [],
   "source": [
    "name_list.append(first_half)"
   ]
  },
  {
   "cell_type": "code",
   "execution_count": 38,
   "id": "e3760ee9-cf60-41ac-b870-f91188fd2722",
   "metadata": {},
   "outputs": [
    {
     "data": {
      "text/plain": [
       "['David', ['Sam', 'Muhammad']]"
      ]
     },
     "execution_count": 38,
     "metadata": {},
     "output_type": "execute_result"
    }
   ],
   "source": [
    "name_list"
   ]
  },
  {
   "cell_type": "code",
   "execution_count": 39,
   "id": "e17730e1-103d-4319-8876-601b409dcb74",
   "metadata": {},
   "outputs": [
    {
     "data": {
      "text/plain": [
       "2"
      ]
     },
     "execution_count": 39,
     "metadata": {},
     "output_type": "execute_result"
    }
   ],
   "source": [
    "len(name_list)"
   ]
  },
  {
   "cell_type": "code",
   "execution_count": 40,
   "id": "364dd844-d2a8-4e27-af3e-a5a03d80a1f7",
   "metadata": {},
   "outputs": [
    {
     "data": {
      "text/plain": [
       "'Sam'"
      ]
     },
     "execution_count": 40,
     "metadata": {},
     "output_type": "execute_result"
    }
   ],
   "source": [
    "name_list[1][0]"
   ]
  },
  {
   "cell_type": "code",
   "execution_count": 41,
   "id": "4e7e1fb9-2885-4fa2-9c72-14083840a483",
   "metadata": {},
   "outputs": [
    {
     "data": {
      "text/plain": [
       "['Sam', 'Muhammad']"
      ]
     },
     "execution_count": 41,
     "metadata": {},
     "output_type": "execute_result"
    }
   ],
   "source": [
    "name_list[1]"
   ]
  },
  {
   "cell_type": "code",
   "execution_count": 42,
   "id": "07c97ce5-abc6-40a7-8bdb-cacbf2fa121f",
   "metadata": {},
   "outputs": [],
   "source": [
    "name_list.extend(second_half)"
   ]
  },
  {
   "cell_type": "code",
   "execution_count": 43,
   "id": "5956414f-4f1c-4a94-8c30-a1db098aa1cf",
   "metadata": {},
   "outputs": [
    {
     "data": {
      "text/plain": [
       "['David', ['Sam', 'Muhammad'], 'David', 5]"
      ]
     },
     "execution_count": 43,
     "metadata": {},
     "output_type": "execute_result"
    }
   ],
   "source": [
    "name_list"
   ]
  },
  {
   "cell_type": "code",
   "execution_count": 44,
   "id": "6cf4971f-b287-48fe-a619-ac1ab4be4c43",
   "metadata": {},
   "outputs": [
    {
     "data": {
      "text/plain": [
       "4"
      ]
     },
     "execution_count": 44,
     "metadata": {},
     "output_type": "execute_result"
    }
   ],
   "source": [
    "len(name_list)"
   ]
  },
  {
   "cell_type": "code",
   "execution_count": 45,
   "id": "36951421-22b7-4787-9b02-80197f737ab9",
   "metadata": {},
   "outputs": [
    {
     "data": {
      "text/plain": [
       "'David'"
      ]
     },
     "execution_count": 45,
     "metadata": {},
     "output_type": "execute_result"
    }
   ],
   "source": [
    "name_list[2]"
   ]
  },
  {
   "cell_type": "code",
   "execution_count": 46,
   "id": "6e2510be-a407-4cc2-b64d-7d9979f0e467",
   "metadata": {},
   "outputs": [],
   "source": [
    "del name_list[1]"
   ]
  },
  {
   "cell_type": "code",
   "execution_count": 47,
   "id": "7e74c2a0-6a04-4990-b6ae-96c1984ff018",
   "metadata": {},
   "outputs": [
    {
     "data": {
      "text/plain": [
       "['David', 'David', 5]"
      ]
     },
     "execution_count": 47,
     "metadata": {},
     "output_type": "execute_result"
    }
   ],
   "source": [
    "name_list"
   ]
  },
  {
   "cell_type": "code",
   "execution_count": 48,
   "id": "43242c17-efda-4d5c-9866-a7a677960dc8",
   "metadata": {},
   "outputs": [],
   "source": [
    "del name_list"
   ]
  },
  {
   "cell_type": "code",
   "execution_count": 49,
   "id": "3a9cff26-cad8-4c81-a8ac-8493dabd45fc",
   "metadata": {},
   "outputs": [
    {
     "ename": "NameError",
     "evalue": "name 'name_list' is not defined",
     "output_type": "error",
     "traceback": [
      "\u001b[1;31m---------------------------------------------------------------------------\u001b[0m",
      "\u001b[1;31mNameError\u001b[0m                                 Traceback (most recent call last)",
      "Cell \u001b[1;32mIn[49], line 1\u001b[0m\n\u001b[1;32m----> 1\u001b[0m name_list\n",
      "\u001b[1;31mNameError\u001b[0m: name 'name_list' is not defined"
     ]
    }
   ],
   "source": [
    "name_list"
   ]
  },
  {
   "cell_type": "code",
   "execution_count": 50,
   "id": "3dd23fe8-1051-4010-b205-d3495d16c398",
   "metadata": {},
   "outputs": [],
   "source": [
    "name_list = []"
   ]
  },
  {
   "cell_type": "code",
   "execution_count": 51,
   "id": "a2139e02-2e4e-4f6a-975c-1dd7d8066a0c",
   "metadata": {},
   "outputs": [],
   "source": [
    "name_list.extend(first_half)"
   ]
  },
  {
   "cell_type": "code",
   "execution_count": 52,
   "id": "2d0b2e3d-79f5-4d49-9ed7-83a9a8ab89bc",
   "metadata": {},
   "outputs": [],
   "source": [
    "name_list.extend(second_half)"
   ]
  },
  {
   "cell_type": "code",
   "execution_count": 53,
   "id": "0143b421-36b4-4723-afe2-5ebf725fe207",
   "metadata": {},
   "outputs": [
    {
     "data": {
      "text/plain": [
       "['Sam', 'Muhammad', 'David', 5]"
      ]
     },
     "execution_count": 53,
     "metadata": {},
     "output_type": "execute_result"
    }
   ],
   "source": [
    "name_list"
   ]
  },
  {
   "cell_type": "code",
   "execution_count": 55,
   "id": "b2f04384-6d0d-4d9d-97a1-0bf5bb5e8370",
   "metadata": {},
   "outputs": [
    {
     "name": "stdout",
     "output_type": "stream",
     "text": [
      "Sam SamSamSamSamSam\n",
      "Muhammad MuhammadMuhammadMuhammadMuhammadMuhammad\n",
      "David DavidDavidDavidDavidDavid\n",
      "5 25\n"
     ]
    }
   ],
   "source": [
    "for name in name_list:\n",
    "    print(name, name*5)"
   ]
  },
  {
   "cell_type": "code",
   "execution_count": 56,
   "id": "9400d225-f33c-4992-8122-d10a3dc9624e",
   "metadata": {},
   "outputs": [
    {
     "name": "stdout",
     "output_type": "stream",
     "text": [
      "SamSamSamSamSam\n",
      "MuhammadMuhammadMuhammadMuhammadMuhammad\n",
      "DavidDavidDavidDavidDavid\n",
      "25\n"
     ]
    }
   ],
   "source": [
    "for i in range(len(name_list)):\n",
    "    print(name_list[i]*5)"
   ]
  },
  {
   "cell_type": "code",
   "execution_count": 58,
   "id": "8ff926d8-e85c-4999-90b4-aa24ab0ef179",
   "metadata": {},
   "outputs": [
    {
     "name": "stdout",
     "output_type": "stream",
     "text": [
      "0 SamSamSamSamSam\n",
      "1 MuhammadMuhammadMuhammadMuhammadMuhammad\n",
      "2 DavidDavidDavidDavidDavid\n",
      "3 25\n"
     ]
    }
   ],
   "source": [
    "for i, name in enumerate(name_list):\n",
    "    print(i, name*5)"
   ]
  },
  {
   "cell_type": "markdown",
   "id": "6b074781-a47a-46ac-b015-60fe98fc042c",
   "metadata": {},
   "source": [
    "## Dictionaries"
   ]
  },
  {
   "cell_type": "code",
   "execution_count": 59,
   "id": "ba089c2e-21f4-4cc6-9760-edc3ba567df8",
   "metadata": {},
   "outputs": [],
   "source": [
    "def trippleAddition(num1, num2, num3=10):\n",
    "    return num1+num2+num3"
   ]
  },
  {
   "cell_type": "code",
   "execution_count": 60,
   "id": "58a2f059-b0b4-4cbd-a8e0-d5b0cae3aa50",
   "metadata": {},
   "outputs": [
    {
     "data": {
      "text/plain": [
       "16"
      ]
     },
     "execution_count": 60,
     "metadata": {},
     "output_type": "execute_result"
    }
   ],
   "source": [
    "trippleAddition(1, 5, 10)"
   ]
  },
  {
   "cell_type": "code",
   "execution_count": 61,
   "id": "dfeba7b6-4a86-4748-a6d3-4e29f3cbe8ef",
   "metadata": {},
   "outputs": [
    {
     "data": {
      "text/plain": [
       "24"
      ]
     },
     "execution_count": 61,
     "metadata": {},
     "output_type": "execute_result"
    }
   ],
   "source": [
    "trippleAddition(num2 = 4, num1 = 10)"
   ]
  },
  {
   "cell_type": "code",
   "execution_count": 62,
   "id": "75d7f82e-8d48-445d-8560-2c57eecf6515",
   "metadata": {},
   "outputs": [],
   "source": [
    "name_dict = {\"sam\": \"programming\", \"david\": \"data prep\", \"taufique\":\"stats\"} # key: value"
   ]
  },
  {
   "cell_type": "code",
   "execution_count": 63,
   "id": "ee157983-1757-4b52-a29a-adf580cc442b",
   "metadata": {},
   "outputs": [
    {
     "data": {
      "text/plain": [
       "'programming'"
      ]
     },
     "execution_count": 63,
     "metadata": {},
     "output_type": "execute_result"
    }
   ],
   "source": [
    "name_dict[\"sam\"]"
   ]
  },
  {
   "cell_type": "code",
   "execution_count": 64,
   "id": "3c87877a-85f2-45f5-9e4e-8be74478a57f",
   "metadata": {
    "collapsed": true,
    "jupyter": {
     "outputs_hidden": true
    }
   },
   "outputs": [
    {
     "ename": "KeyError",
     "evalue": "0",
     "output_type": "error",
     "traceback": [
      "\u001b[1;31m---------------------------------------------------------------------------\u001b[0m",
      "\u001b[1;31mKeyError\u001b[0m                                  Traceback (most recent call last)",
      "Cell \u001b[1;32mIn[64], line 1\u001b[0m\n\u001b[1;32m----> 1\u001b[0m name_dict[\u001b[38;5;241m0\u001b[39m]\n",
      "\u001b[1;31mKeyError\u001b[0m: 0"
     ]
    }
   ],
   "source": [
    "name_dict[0]"
   ]
  },
  {
   "cell_type": "code",
   "execution_count": 66,
   "id": "b62435c8-a118-495c-afd8-bbdaf513fa0b",
   "metadata": {
    "collapsed": true,
    "jupyter": {
     "outputs_hidden": true
    }
   },
   "outputs": [
    {
     "ename": "KeyError",
     "evalue": "'programming'",
     "output_type": "error",
     "traceback": [
      "\u001b[1;31m---------------------------------------------------------------------------\u001b[0m",
      "\u001b[1;31mKeyError\u001b[0m                                  Traceback (most recent call last)",
      "Cell \u001b[1;32mIn[66], line 1\u001b[0m\n\u001b[1;32m----> 1\u001b[0m name_dict[\u001b[38;5;124m\"\u001b[39m\u001b[38;5;124mprogramming\u001b[39m\u001b[38;5;124m\"\u001b[39m]\n",
      "\u001b[1;31mKeyError\u001b[0m: 'programming'"
     ]
    }
   ],
   "source": [
    "name_dict[\"programming\"]"
   ]
  },
  {
   "cell_type": "code",
   "execution_count": 67,
   "id": "6d90216c-5c5f-4700-9f62-0f7d2e775ea3",
   "metadata": {},
   "outputs": [],
   "source": [
    "name_dict[\"muhammad\"] = \"machine learning\""
   ]
  },
  {
   "cell_type": "code",
   "execution_count": 68,
   "id": "fab52487-b5e6-4157-b1ca-6921535da614",
   "metadata": {},
   "outputs": [
    {
     "data": {
      "text/plain": [
       "{'sam': 'programming',\n",
       " 'david': 'data prep',\n",
       " 'taufique': 'stats',\n",
       " 'muhammad': 'machine learning'}"
      ]
     },
     "execution_count": 68,
     "metadata": {},
     "output_type": "execute_result"
    }
   ],
   "source": [
    "name_dict"
   ]
  },
  {
   "cell_type": "code",
   "execution_count": 69,
   "id": "450a8f80-ab75-47a4-a1f5-26fe0e103a25",
   "metadata": {},
   "outputs": [
    {
     "data": {
      "text/plain": [
       "'machine learning'"
      ]
     },
     "execution_count": 69,
     "metadata": {},
     "output_type": "execute_result"
    }
   ],
   "source": [
    "name_dict[\"muhammad\"]"
   ]
  },
  {
   "cell_type": "code",
   "execution_count": 70,
   "id": "d701726b-d188-45f6-a24e-7ec0c30d8e84",
   "metadata": {},
   "outputs": [],
   "source": [
    "name_dict[\"muhammad\"] = \"big data\""
   ]
  },
  {
   "cell_type": "code",
   "execution_count": 71,
   "id": "1ea695fd-17f8-4dc4-bb6b-eb171b06155e",
   "metadata": {},
   "outputs": [
    {
     "data": {
      "text/plain": [
       "'big data'"
      ]
     },
     "execution_count": 71,
     "metadata": {},
     "output_type": "execute_result"
    }
   ],
   "source": [
    "name_dict[\"muhammad\"]"
   ]
  },
  {
   "cell_type": "code",
   "execution_count": 72,
   "id": "a17248ac-1153-43ea-8334-44e1becba09a",
   "metadata": {},
   "outputs": [],
   "source": [
    "import pandas as pd"
   ]
  },
  {
   "cell_type": "code",
   "execution_count": 75,
   "id": "6d06908e-ac1f-48c1-b2f8-c97f1a3b9f30",
   "metadata": {},
   "outputs": [],
   "source": [
    "ages = [10, 20, 25, 33, 44, 55]\n",
    "names = [\"alice\", \"bob\", \"carl\", \"donal\", \"eoin\", \"fionn\"]"
   ]
  },
  {
   "cell_type": "code",
   "execution_count": 76,
   "id": "f6271676-c0e7-42a9-ab77-3340e2c90d1d",
   "metadata": {},
   "outputs": [],
   "source": [
    "df = pd.DataFrame({\n",
    "    \"Age\" : ages,\n",
    "    \"Name\": names\n",
    "})"
   ]
  },
  {
   "cell_type": "code",
   "execution_count": 77,
   "id": "4d6c5884-8fb0-4404-be7d-a15fc7ccd74e",
   "metadata": {
    "collapsed": true,
    "jupyter": {
     "outputs_hidden": true
    }
   },
   "outputs": [
    {
     "data": {
      "text/html": [
       "<div>\n",
       "<style scoped>\n",
       "    .dataframe tbody tr th:only-of-type {\n",
       "        vertical-align: middle;\n",
       "    }\n",
       "\n",
       "    .dataframe tbody tr th {\n",
       "        vertical-align: top;\n",
       "    }\n",
       "\n",
       "    .dataframe thead th {\n",
       "        text-align: right;\n",
       "    }\n",
       "</style>\n",
       "<table border=\"1\" class=\"dataframe\">\n",
       "  <thead>\n",
       "    <tr style=\"text-align: right;\">\n",
       "      <th></th>\n",
       "      <th>Age</th>\n",
       "      <th>Name</th>\n",
       "    </tr>\n",
       "  </thead>\n",
       "  <tbody>\n",
       "    <tr>\n",
       "      <th>0</th>\n",
       "      <td>10</td>\n",
       "      <td>alice</td>\n",
       "    </tr>\n",
       "    <tr>\n",
       "      <th>1</th>\n",
       "      <td>20</td>\n",
       "      <td>bob</td>\n",
       "    </tr>\n",
       "    <tr>\n",
       "      <th>2</th>\n",
       "      <td>25</td>\n",
       "      <td>carl</td>\n",
       "    </tr>\n",
       "    <tr>\n",
       "      <th>3</th>\n",
       "      <td>33</td>\n",
       "      <td>donal</td>\n",
       "    </tr>\n",
       "    <tr>\n",
       "      <th>4</th>\n",
       "      <td>44</td>\n",
       "      <td>eoin</td>\n",
       "    </tr>\n",
       "    <tr>\n",
       "      <th>5</th>\n",
       "      <td>55</td>\n",
       "      <td>fionn</td>\n",
       "    </tr>\n",
       "  </tbody>\n",
       "</table>\n",
       "</div>"
      ],
      "text/plain": [
       "   Age   Name\n",
       "0   10  alice\n",
       "1   20    bob\n",
       "2   25   carl\n",
       "3   33  donal\n",
       "4   44   eoin\n",
       "5   55  fionn"
      ]
     },
     "execution_count": 77,
     "metadata": {},
     "output_type": "execute_result"
    }
   ],
   "source": [
    "df"
   ]
  },
  {
   "cell_type": "markdown",
   "id": "30440e93-2144-4975-9039-530cb81acaa4",
   "metadata": {},
   "source": [
    "## Tuple"
   ]
  },
  {
   "cell_type": "code",
   "execution_count": 78,
   "id": "fd2476b5-2bc9-4da7-bcb8-c5f67db7360f",
   "metadata": {},
   "outputs": [],
   "source": [
    "name_tuple = (\"Sam\", \"David\", \"Muhammad\")"
   ]
  },
  {
   "cell_type": "code",
   "execution_count": 79,
   "id": "40238f10-c8bd-4f82-b548-07cd87377a3c",
   "metadata": {},
   "outputs": [
    {
     "data": {
      "text/plain": [
       "'Sam'"
      ]
     },
     "execution_count": 79,
     "metadata": {},
     "output_type": "execute_result"
    }
   ],
   "source": [
    "name_tuple[0]"
   ]
  },
  {
   "cell_type": "code",
   "execution_count": 80,
   "id": "8b94e8e8-1df4-411c-a56f-4dc0b9884fde",
   "metadata": {},
   "outputs": [
    {
     "data": {
      "text/plain": [
       "'Muhammad'"
      ]
     },
     "execution_count": 80,
     "metadata": {},
     "output_type": "execute_result"
    }
   ],
   "source": [
    "name_tuple[-1]"
   ]
  },
  {
   "cell_type": "code",
   "execution_count": 81,
   "id": "141c1964-46a9-458b-848a-ca650bbc2ab6",
   "metadata": {
    "collapsed": true,
    "jupyter": {
     "outputs_hidden": true
    }
   },
   "outputs": [
    {
     "ename": "TypeError",
     "evalue": "'tuple' object does not support item assignment",
     "output_type": "error",
     "traceback": [
      "\u001b[1;31m---------------------------------------------------------------------------\u001b[0m",
      "\u001b[1;31mTypeError\u001b[0m                                 Traceback (most recent call last)",
      "Cell \u001b[1;32mIn[81], line 1\u001b[0m\n\u001b[1;32m----> 1\u001b[0m name_tuple[\u001b[38;5;241m0\u001b[39m] \u001b[38;5;241m=\u001b[39m \u001b[38;5;124m\"\u001b[39m\u001b[38;5;124mTaufique\u001b[39m\u001b[38;5;124m\"\u001b[39m\n",
      "\u001b[1;31mTypeError\u001b[0m: 'tuple' object does not support item assignment"
     ]
    }
   ],
   "source": [
    "name_tuple[0] = \"Taufique\""
   ]
  },
  {
   "cell_type": "code",
   "execution_count": 82,
   "id": "b87b1a87-dea2-4f98-ac9c-46cab5327428",
   "metadata": {},
   "outputs": [],
   "source": [
    "def multiReturn():\n",
    "    return 1, 2, 3"
   ]
  },
  {
   "cell_type": "code",
   "execution_count": 85,
   "id": "a0458416-27a5-46e7-9a8b-8974dc95d96b",
   "metadata": {},
   "outputs": [],
   "source": [
    "a=multiReturn()"
   ]
  },
  {
   "cell_type": "code",
   "execution_count": 86,
   "id": "52fbbb63-f330-4ec5-9561-b5398a6e48d1",
   "metadata": {},
   "outputs": [
    {
     "data": {
      "text/plain": [
       "(1, 2, 3)"
      ]
     },
     "execution_count": 86,
     "metadata": {},
     "output_type": "execute_result"
    }
   ],
   "source": [
    "a"
   ]
  },
  {
   "cell_type": "code",
   "execution_count": 87,
   "id": "424f740c-496d-4a4f-89f0-2641cd6be6b9",
   "metadata": {},
   "outputs": [],
   "source": [
    "b, c, d = multiReturn()"
   ]
  },
  {
   "cell_type": "code",
   "execution_count": 88,
   "id": "ccc2fcd7-2c4a-450b-a69e-2958674045c6",
   "metadata": {},
   "outputs": [
    {
     "data": {
      "text/plain": [
       "1"
      ]
     },
     "execution_count": 88,
     "metadata": {},
     "output_type": "execute_result"
    }
   ],
   "source": [
    "b"
   ]
  },
  {
   "cell_type": "code",
   "execution_count": 89,
   "id": "7a8a85ce-0d61-4cff-9490-7afd765741c5",
   "metadata": {},
   "outputs": [
    {
     "data": {
      "text/plain": [
       "2"
      ]
     },
     "execution_count": 89,
     "metadata": {},
     "output_type": "execute_result"
    }
   ],
   "source": [
    "c"
   ]
  },
  {
   "cell_type": "code",
   "execution_count": 90,
   "id": "606ace51-4e1d-480c-bb65-0adf30b353cc",
   "metadata": {},
   "outputs": [
    {
     "data": {
      "text/plain": [
       "3"
      ]
     },
     "execution_count": 90,
     "metadata": {},
     "output_type": "execute_result"
    }
   ],
   "source": [
    "d"
   ]
  },
  {
   "cell_type": "code",
   "execution_count": 92,
   "id": "7f203102-202b-4953-92e0-1a9cff69ef6f",
   "metadata": {},
   "outputs": [
    {
     "data": {
      "text/html": [
       "<div>\n",
       "<style scoped>\n",
       "    .dataframe tbody tr th:only-of-type {\n",
       "        vertical-align: middle;\n",
       "    }\n",
       "\n",
       "    .dataframe tbody tr th {\n",
       "        vertical-align: top;\n",
       "    }\n",
       "\n",
       "    .dataframe thead th {\n",
       "        text-align: right;\n",
       "    }\n",
       "</style>\n",
       "<table border=\"1\" class=\"dataframe\">\n",
       "  <thead>\n",
       "    <tr style=\"text-align: right;\">\n",
       "      <th></th>\n",
       "      <th>Age</th>\n",
       "      <th>Name</th>\n",
       "    </tr>\n",
       "  </thead>\n",
       "  <tbody>\n",
       "    <tr>\n",
       "      <th>0</th>\n",
       "      <td>10</td>\n",
       "      <td>alice</td>\n",
       "    </tr>\n",
       "    <tr>\n",
       "      <th>1</th>\n",
       "      <td>20</td>\n",
       "      <td>bob</td>\n",
       "    </tr>\n",
       "    <tr>\n",
       "      <th>2</th>\n",
       "      <td>25</td>\n",
       "      <td>carl</td>\n",
       "    </tr>\n",
       "    <tr>\n",
       "      <th>3</th>\n",
       "      <td>33</td>\n",
       "      <td>donal</td>\n",
       "    </tr>\n",
       "    <tr>\n",
       "      <th>4</th>\n",
       "      <td>44</td>\n",
       "      <td>eoin</td>\n",
       "    </tr>\n",
       "    <tr>\n",
       "      <th>5</th>\n",
       "      <td>55</td>\n",
       "      <td>fionn</td>\n",
       "    </tr>\n",
       "  </tbody>\n",
       "</table>\n",
       "</div>"
      ],
      "text/plain": [
       "   Age   Name\n",
       "0   10  alice\n",
       "1   20    bob\n",
       "2   25   carl\n",
       "3   33  donal\n",
       "4   44   eoin\n",
       "5   55  fionn"
      ]
     },
     "execution_count": 92,
     "metadata": {},
     "output_type": "execute_result"
    }
   ],
   "source": [
    "df"
   ]
  },
  {
   "cell_type": "code",
   "execution_count": 95,
   "id": "c1402eb6-f559-49a6-92df-7517daaf510a",
   "metadata": {
    "collapsed": true,
    "jupyter": {
     "outputs_hidden": true
    }
   },
   "outputs": [
    {
     "data": {
      "text/html": [
       "<div>\n",
       "<style scoped>\n",
       "    .dataframe tbody tr th:only-of-type {\n",
       "        vertical-align: middle;\n",
       "    }\n",
       "\n",
       "    .dataframe tbody tr th {\n",
       "        vertical-align: top;\n",
       "    }\n",
       "\n",
       "    .dataframe thead th {\n",
       "        text-align: right;\n",
       "    }\n",
       "</style>\n",
       "<table border=\"1\" class=\"dataframe\">\n",
       "  <thead>\n",
       "    <tr style=\"text-align: right;\">\n",
       "      <th></th>\n",
       "    </tr>\n",
       "  </thead>\n",
       "  <tbody>\n",
       "    <tr>\n",
       "      <th>0</th>\n",
       "    </tr>\n",
       "    <tr>\n",
       "      <th>1</th>\n",
       "    </tr>\n",
       "    <tr>\n",
       "      <th>2</th>\n",
       "    </tr>\n",
       "    <tr>\n",
       "      <th>3</th>\n",
       "    </tr>\n",
       "    <tr>\n",
       "      <th>4</th>\n",
       "    </tr>\n",
       "    <tr>\n",
       "      <th>5</th>\n",
       "    </tr>\n",
       "  </tbody>\n",
       "</table>\n",
       "</div>"
      ],
      "text/plain": [
       "Empty DataFrame\n",
       "Columns: []\n",
       "Index: [0, 1, 2, 3, 4, 5]"
      ]
     },
     "execution_count": 95,
     "metadata": {},
     "output_type": "execute_result"
    }
   ],
   "source": [
    "df.drop(columns=[\"Age\", \"Name\"])"
   ]
  },
  {
   "cell_type": "code",
   "execution_count": 96,
   "id": "32490519-5016-4305-8bd3-1e1d685dc51e",
   "metadata": {
    "collapsed": true,
    "jupyter": {
     "outputs_hidden": true
    }
   },
   "outputs": [
    {
     "data": {
      "text/html": [
       "<div>\n",
       "<style scoped>\n",
       "    .dataframe tbody tr th:only-of-type {\n",
       "        vertical-align: middle;\n",
       "    }\n",
       "\n",
       "    .dataframe tbody tr th {\n",
       "        vertical-align: top;\n",
       "    }\n",
       "\n",
       "    .dataframe thead th {\n",
       "        text-align: right;\n",
       "    }\n",
       "</style>\n",
       "<table border=\"1\" class=\"dataframe\">\n",
       "  <thead>\n",
       "    <tr style=\"text-align: right;\">\n",
       "      <th></th>\n",
       "      <th>Age</th>\n",
       "      <th>Name</th>\n",
       "    </tr>\n",
       "  </thead>\n",
       "  <tbody>\n",
       "    <tr>\n",
       "      <th>0</th>\n",
       "      <td>10</td>\n",
       "      <td>alice</td>\n",
       "    </tr>\n",
       "    <tr>\n",
       "      <th>1</th>\n",
       "      <td>20</td>\n",
       "      <td>bob</td>\n",
       "    </tr>\n",
       "    <tr>\n",
       "      <th>2</th>\n",
       "      <td>25</td>\n",
       "      <td>carl</td>\n",
       "    </tr>\n",
       "    <tr>\n",
       "      <th>3</th>\n",
       "      <td>33</td>\n",
       "      <td>donal</td>\n",
       "    </tr>\n",
       "    <tr>\n",
       "      <th>4</th>\n",
       "      <td>44</td>\n",
       "      <td>eoin</td>\n",
       "    </tr>\n",
       "    <tr>\n",
       "      <th>5</th>\n",
       "      <td>55</td>\n",
       "      <td>fionn</td>\n",
       "    </tr>\n",
       "  </tbody>\n",
       "</table>\n",
       "</div>"
      ],
      "text/plain": [
       "   Age   Name\n",
       "0   10  alice\n",
       "1   20    bob\n",
       "2   25   carl\n",
       "3   33  donal\n",
       "4   44   eoin\n",
       "5   55  fionn"
      ]
     },
     "execution_count": 96,
     "metadata": {},
     "output_type": "execute_result"
    }
   ],
   "source": [
    "df"
   ]
  },
  {
   "cell_type": "code",
   "execution_count": 97,
   "id": "c3775972-8906-446b-8c77-1b8f80930832",
   "metadata": {},
   "outputs": [],
   "source": [
    "df.drop(columns=[\"Age\", \"Name\"], inplace=True)"
   ]
  },
  {
   "cell_type": "code",
   "execution_count": 98,
   "id": "cfbdfd30-5106-40c8-a83e-cdd8cb3bb494",
   "metadata": {},
   "outputs": [
    {
     "data": {
      "text/html": [
       "<div>\n",
       "<style scoped>\n",
       "    .dataframe tbody tr th:only-of-type {\n",
       "        vertical-align: middle;\n",
       "    }\n",
       "\n",
       "    .dataframe tbody tr th {\n",
       "        vertical-align: top;\n",
       "    }\n",
       "\n",
       "    .dataframe thead th {\n",
       "        text-align: right;\n",
       "    }\n",
       "</style>\n",
       "<table border=\"1\" class=\"dataframe\">\n",
       "  <thead>\n",
       "    <tr style=\"text-align: right;\">\n",
       "      <th></th>\n",
       "    </tr>\n",
       "  </thead>\n",
       "  <tbody>\n",
       "    <tr>\n",
       "      <th>0</th>\n",
       "    </tr>\n",
       "    <tr>\n",
       "      <th>1</th>\n",
       "    </tr>\n",
       "    <tr>\n",
       "      <th>2</th>\n",
       "    </tr>\n",
       "    <tr>\n",
       "      <th>3</th>\n",
       "    </tr>\n",
       "    <tr>\n",
       "      <th>4</th>\n",
       "    </tr>\n",
       "    <tr>\n",
       "      <th>5</th>\n",
       "    </tr>\n",
       "  </tbody>\n",
       "</table>\n",
       "</div>"
      ],
      "text/plain": [
       "Empty DataFrame\n",
       "Columns: []\n",
       "Index: [0, 1, 2, 3, 4, 5]"
      ]
     },
     "execution_count": 98,
     "metadata": {},
     "output_type": "execute_result"
    }
   ],
   "source": [
    "df"
   ]
  },
  {
   "cell_type": "code",
   "execution_count": 99,
   "id": "f9a13f04-18ff-41d5-bc18-1c568a1c5e21",
   "metadata": {},
   "outputs": [],
   "source": [
    "def makedf():\n",
    "    df = pd.DataFrame({\n",
    "    \"Age\" : ages,\n",
    "    \"Name\": names\n",
    "    })\n",
    "    return df"
   ]
  },
  {
   "cell_type": "code",
   "execution_count": 100,
   "id": "6ae63a01-8f29-411b-8005-8d3940ea2667",
   "metadata": {},
   "outputs": [],
   "source": [
    "df = makedf()"
   ]
  },
  {
   "cell_type": "code",
   "execution_count": 101,
   "id": "f1de205b-6bfe-435b-bc98-fc19920f3099",
   "metadata": {},
   "outputs": [
    {
     "data": {
      "text/html": [
       "<div>\n",
       "<style scoped>\n",
       "    .dataframe tbody tr th:only-of-type {\n",
       "        vertical-align: middle;\n",
       "    }\n",
       "\n",
       "    .dataframe tbody tr th {\n",
       "        vertical-align: top;\n",
       "    }\n",
       "\n",
       "    .dataframe thead th {\n",
       "        text-align: right;\n",
       "    }\n",
       "</style>\n",
       "<table border=\"1\" class=\"dataframe\">\n",
       "  <thead>\n",
       "    <tr style=\"text-align: right;\">\n",
       "      <th></th>\n",
       "      <th>Age</th>\n",
       "      <th>Name</th>\n",
       "    </tr>\n",
       "  </thead>\n",
       "  <tbody>\n",
       "    <tr>\n",
       "      <th>0</th>\n",
       "      <td>10</td>\n",
       "      <td>alice</td>\n",
       "    </tr>\n",
       "    <tr>\n",
       "      <th>1</th>\n",
       "      <td>20</td>\n",
       "      <td>bob</td>\n",
       "    </tr>\n",
       "    <tr>\n",
       "      <th>2</th>\n",
       "      <td>25</td>\n",
       "      <td>carl</td>\n",
       "    </tr>\n",
       "    <tr>\n",
       "      <th>3</th>\n",
       "      <td>33</td>\n",
       "      <td>donal</td>\n",
       "    </tr>\n",
       "    <tr>\n",
       "      <th>4</th>\n",
       "      <td>44</td>\n",
       "      <td>eoin</td>\n",
       "    </tr>\n",
       "    <tr>\n",
       "      <th>5</th>\n",
       "      <td>55</td>\n",
       "      <td>fionn</td>\n",
       "    </tr>\n",
       "  </tbody>\n",
       "</table>\n",
       "</div>"
      ],
      "text/plain": [
       "   Age   Name\n",
       "0   10  alice\n",
       "1   20    bob\n",
       "2   25   carl\n",
       "3   33  donal\n",
       "4   44   eoin\n",
       "5   55  fionn"
      ]
     },
     "execution_count": 101,
     "metadata": {},
     "output_type": "execute_result"
    }
   ],
   "source": [
    "df"
   ]
  },
  {
   "cell_type": "code",
   "execution_count": 106,
   "id": "002b0f07-5a05-4d08-875d-460201648402",
   "metadata": {},
   "outputs": [
    {
     "data": {
      "text/html": [
       "<div>\n",
       "<style scoped>\n",
       "    .dataframe tbody tr th:only-of-type {\n",
       "        vertical-align: middle;\n",
       "    }\n",
       "\n",
       "    .dataframe tbody tr th {\n",
       "        vertical-align: top;\n",
       "    }\n",
       "\n",
       "    .dataframe thead th {\n",
       "        text-align: right;\n",
       "    }\n",
       "</style>\n",
       "<table border=\"1\" class=\"dataframe\">\n",
       "  <thead>\n",
       "    <tr style=\"text-align: right;\">\n",
       "      <th></th>\n",
       "      <th>Age</th>\n",
       "      <th>Name</th>\n",
       "    </tr>\n",
       "  </thead>\n",
       "  <tbody>\n",
       "    <tr>\n",
       "      <th>0</th>\n",
       "      <td>10</td>\n",
       "      <td>alice</td>\n",
       "    </tr>\n",
       "    <tr>\n",
       "      <th>1</th>\n",
       "      <td>20</td>\n",
       "      <td>bob</td>\n",
       "    </tr>\n",
       "    <tr>\n",
       "      <th>4</th>\n",
       "      <td>44</td>\n",
       "      <td>eoin</td>\n",
       "    </tr>\n",
       "    <tr>\n",
       "      <th>5</th>\n",
       "      <td>55</td>\n",
       "      <td>fionn</td>\n",
       "    </tr>\n",
       "  </tbody>\n",
       "</table>\n",
       "</div>"
      ],
      "text/plain": [
       "   Age   Name\n",
       "0   10  alice\n",
       "1   20    bob\n",
       "4   44   eoin\n",
       "5   55  fionn"
      ]
     },
     "execution_count": 106,
     "metadata": {},
     "output_type": "execute_result"
    }
   ],
   "source": [
    "df.drop(index=[2, 3])"
   ]
  },
  {
   "cell_type": "code",
   "execution_count": 107,
   "id": "fa400c95-9d79-4284-bc1d-5a4f18623b7f",
   "metadata": {},
   "outputs": [
    {
     "data": {
      "text/plain": [
       "0     True\n",
       "1     True\n",
       "2    False\n",
       "3    False\n",
       "4     True\n",
       "5    False\n",
       "Name: Age, dtype: bool"
      ]
     },
     "execution_count": 107,
     "metadata": {},
     "output_type": "execute_result"
    }
   ],
   "source": [
    "df[\"Age\"] % 2 == 0"
   ]
  },
  {
   "cell_type": "code",
   "execution_count": 108,
   "id": "ee9c1612-2781-465c-b9c8-2236bd73dbdd",
   "metadata": {},
   "outputs": [
    {
     "data": {
      "text/html": [
       "<div>\n",
       "<style scoped>\n",
       "    .dataframe tbody tr th:only-of-type {\n",
       "        vertical-align: middle;\n",
       "    }\n",
       "\n",
       "    .dataframe tbody tr th {\n",
       "        vertical-align: top;\n",
       "    }\n",
       "\n",
       "    .dataframe thead th {\n",
       "        text-align: right;\n",
       "    }\n",
       "</style>\n",
       "<table border=\"1\" class=\"dataframe\">\n",
       "  <thead>\n",
       "    <tr style=\"text-align: right;\">\n",
       "      <th></th>\n",
       "      <th>Age</th>\n",
       "      <th>Name</th>\n",
       "    </tr>\n",
       "  </thead>\n",
       "  <tbody>\n",
       "    <tr>\n",
       "      <th>0</th>\n",
       "      <td>10</td>\n",
       "      <td>alice</td>\n",
       "    </tr>\n",
       "    <tr>\n",
       "      <th>1</th>\n",
       "      <td>20</td>\n",
       "      <td>bob</td>\n",
       "    </tr>\n",
       "    <tr>\n",
       "      <th>4</th>\n",
       "      <td>44</td>\n",
       "      <td>eoin</td>\n",
       "    </tr>\n",
       "  </tbody>\n",
       "</table>\n",
       "</div>"
      ],
      "text/plain": [
       "   Age   Name\n",
       "0   10  alice\n",
       "1   20    bob\n",
       "4   44   eoin"
      ]
     },
     "execution_count": 108,
     "metadata": {},
     "output_type": "execute_result"
    }
   ],
   "source": [
    "df[df[\"Age\"] % 2 == 0]"
   ]
  },
  {
   "cell_type": "code",
   "execution_count": null,
   "id": "1dad8202-38c7-4448-b9ae-e43a2b688cfe",
   "metadata": {},
   "outputs": [],
   "source": []
  }
 ],
 "metadata": {
  "kernelspec": {
   "display_name": "Python 3 (ipykernel)",
   "language": "python",
   "name": "python3"
  },
  "language_info": {
   "codemirror_mode": {
    "name": "ipython",
    "version": 3
   },
   "file_extension": ".py",
   "mimetype": "text/x-python",
   "name": "python",
   "nbconvert_exporter": "python",
   "pygments_lexer": "ipython3",
   "version": "3.12.5"
  }
 },
 "nbformat": 4,
 "nbformat_minor": 5
}
